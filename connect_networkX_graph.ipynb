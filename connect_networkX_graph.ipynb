{
 "cells": [
  {
   "cell_type": "markdown",
   "metadata": {},
   "source": [
    "## Connecting networkX graph"
   ]
  },
  {
   "cell_type": "markdown",
   "metadata": {},
   "source": [
    "When doing tests, it was discovered that the networkX graph is not strongly connected, so it is not possible to let the inspector drive to each location.\n",
    "\n",
    "This will be solved in this notebook. However, to do that some assumptions will be made which will bring the resulting network a bit further from the real situation."
   ]
  },
  {
   "cell_type": "code",
   "execution_count": 63,
   "metadata": {},
   "outputs": [],
   "source": [
    "%matplotlib inline\n",
    "import geopandas as gpd\n",
    "import pandas as pd\n",
    "import numpy as np\n",
    "\n",
    "import matplotlib.pyplot as plt\n",
    "import pickle\n",
    "import networkx as nx\n",
    "from scipy import spatial"
   ]
  },
  {
   "cell_type": "code",
   "execution_count": 64,
   "metadata": {},
   "outputs": [],
   "source": [
    "# Open old networkX graph\n",
    "G = pickle.load(open('NetworkX_graph.pickle', 'rb'))"
   ]
  },
  {
   "cell_type": "markdown",
   "metadata": {},
   "source": [
    "The network used is a directional graph, so it can be both strongly (each node can be reached from each node) and weakly (each node can be reached from each node if ignoring the directions of the edges) connected. "
   ]
  },
  {
   "cell_type": "code",
   "execution_count": 65,
   "metadata": {},
   "outputs": [
    {
     "name": "stdout",
     "output_type": "stream",
     "text": [
      "Check if network is strongly connected: False\n",
      "Check if network is weakly connected: False\n"
     ]
    }
   ],
   "source": [
    "strong = nx.is_strongly_connected(G)\n",
    "weak = nx.is_weakly_connected(G)\n",
    "\n",
    "print(f'Check if network is strongly connected: {strong}')\n",
    "print(f'Check if network is weakly connected: {weak}')"
   ]
  },
  {
   "cell_type": "markdown",
   "metadata": {},
   "source": [
    "When looking at the existing folium maps, a few reasons were discovered for the unconnected network.\n",
    "- on and off ramps connecting with the regional network. Those regional roads are not part of the network.\n",
    "- missing data\n",
    "- highway that is not connected to the main highway network (e.g. Zeeland)\n",
    "\n",
    "The following algorithm will go over each node and will check if it has no incoming or outgoing nodes. If any of those is missing, The algorithm will loop over the nearest node based on the coordinates. When the nearest node is not the node itself, also not one of the previous 10 or next 10 nodes and within a distance of 100 meters, the nodes will be connected with an edge. The edge of the attributes of the first edge the original node has, will be copied to the new edge. Of course calculating new travel speeds. \n",
    "\n",
    "Not all nodes will find a nearby node that complies with the requirements. That's why a new iteration will be run with more relaxed requirements. "
   ]
  },
  {
   "cell_type": "code",
   "execution_count": 66,
   "metadata": {},
   "outputs": [
    {
     "name": "stdout",
     "output_type": "stream",
     "text": [
      "Iteration 0\n",
      "1547.0 nodes missed an edge\n",
      "1421.0 edges were added\n",
      "126.0 edges could not be added\n",
      "\n",
      "Iteration 1\n",
      "126.0 nodes missed an edge\n",
      "0.0 edges were added\n",
      "126.0 edges could not be added\n",
      "\n",
      "Iteration 2\n",
      "126.0 nodes missed an edge\n",
      "126.0 edges were added\n",
      "0.0 edges could not be added\n",
      "\n",
      "Iteration 3\n",
      "0.0 nodes missed an edge\n",
      "0.0 edges were added\n",
      "0.0 edges could not be added\n",
      "\n"
     ]
    }
   ],
   "source": [
    "dist_list = [] # list with distances of new edges\n",
    " \n",
    "\n",
    "radius = 100 # max length of an new edge\n",
    "\n",
    "# Do the iteration 4 times, 2 times with orignal conditions\n",
    "# And 2 times with relaxed conditions\n",
    "for i in range(4):\n",
    "    \n",
    "    counts = np.zeros(3) # Counts the number of new edges\n",
    "\n",
    "    if i >= 2:\n",
    "        radius = 5000 # Relaxed requirement\n",
    "\n",
    "    # Loop over all nodes\n",
    "    for node in G:\n",
    "\n",
    "        # Check if there are no outgoing or incoming edges\n",
    "        # There are no nodes with no edges at all\n",
    "        if (len(G.out_edges(node)) == 0) or (len(G.out_edges(node)) == 0):\n",
    "            counts[0] += 1 # Add count of edge with missing edge\n",
    "\n",
    "            A = np.array(list(G.nodes())) # Create matrix of node coordinates\n",
    "\n",
    "            dist, index = spatial.KDTree(A).query(list(node)) # calculate nearest node to original node\n",
    "            node_near = (A[index][0], A[index][1]) # nearest node is original node at this point\n",
    "\n",
    "            k = 0\n",
    "            while((node_near == node)\n",
    "                  or node_near in nx.predecessor(G, node, cutoff=10) # Check predecessing nodes\n",
    "                  or node_near in dict(nx.bfs_successors(G, node, depth_limit=10))): # Check successing nodes\n",
    "                \n",
    "                k +=-1\n",
    "                A[index] = [-1, -1]\n",
    "\n",
    "                dist, index = spatial.KDTree(A).query(list(node))\n",
    "                node_near = (A[index][0], A[index][1]) # Calculate next nearest node\n",
    "\n",
    "                # Make sure while loop is not infinite and distance doesn't get too big\n",
    "                if (k == 20) or (dist >= radius):\n",
    "                    counts[2] += 1\n",
    "                    break\n",
    "            \n",
    "            # Add new edge if it meets requirements\n",
    "            if (k != 20) and (dist < radius):\n",
    "                if (len(G.out_edges(node)) == 0):\n",
    "                    edge = (node, node_near)\n",
    "                    edge_list = G.in_edges\n",
    "                else:\n",
    "                    edge = (node_near, node)\n",
    "                    edge_list = G.out_edges\n",
    "                \n",
    "                # Add edge and all edge attributes\n",
    "                G.add_edge(edge[0], edge[1], geometry=[edge[0], edge[1]])\n",
    "\n",
    "                G.edges[edge]['Max_speed'] = edge_list[list(edge_list(node))[0]]['Max_speed']\n",
    "                G.edges[edge]['Road_number'] = edge_list[list(edge_list(node))[0]]['Road_number']\n",
    "                G.edges[edge]['Road_section_id'] = 0\n",
    "                G.edges[edge]['Peak_speed'] = edge_list[list(edge_list(node))[0]]['Peak_speed']\n",
    "                G.edges[edge]['Min_travel_time_[s]'] = dist / (edge_list[list(edge_list(node))[0]]['Max_speed'] / 3.6)\n",
    "                G.edges[edge]['Peak_travel_time_[s]'] = dist / (edge_list[list(edge_list(node))[0]]['Peak_speed'] / 3.6)\n",
    "\n",
    "                dist_list.append(dist)\n",
    "                counts[1] += 1\n",
    "\n",
    "    print(f'Iteration {i}')\n",
    "    print(f'{counts[0]} nodes missed an edge')\n",
    "    print(f'{counts[1]} edges were added')\n",
    "    print(f'{counts[2]} edges could not be added')\n",
    "    print()"
   ]
  },
  {
   "cell_type": "markdown",
   "metadata": {},
   "source": [
    "With the relaxed conditions all edges could be added and have at least one incoming and one outgoing node."
   ]
  },
  {
   "cell_type": "code",
   "execution_count": 67,
   "metadata": {},
   "outputs": [
    {
     "name": "stdout",
     "output_type": "stream",
     "text": [
      "Check if network is strongly connected: False\n",
      "Check if network is weakly connected: False\n"
     ]
    }
   ],
   "source": [
    "strong = nx.is_strongly_connected(G)\n",
    "weak = nx.is_weakly_connected(G)\n",
    "\n",
    "print(f'Check if network is strongly connected: {strong}')\n",
    "print(f'Check if network is weakly connected: {weak}')"
   ]
  },
  {
   "cell_type": "markdown",
   "metadata": {},
   "source": [
    "However, it is still not strongly connected."
   ]
  },
  {
   "cell_type": "code",
   "execution_count": 68,
   "metadata": {},
   "outputs": [
    {
     "name": "stdout",
     "output_type": "stream",
     "text": [
      "There are [0. 0. 0.] strongly connected components\n",
      "The maximum component has 11254 nodes\n",
      "And the minimum component has 1 nodes\n",
      "The whole network has 13601 nodes\n",
      "There are only 2 components with a size larger than 50:\n",
      "[69, 11254]\n"
     ]
    }
   ],
   "source": [
    "count = 0\n",
    "lengths = []\n",
    "large_comp = []\n",
    "for i in nx.strongly_connected_components(G):\n",
    "    count += 1\n",
    "    lengths.append(len(i))\n",
    "\n",
    "    if len(i) > 50:\n",
    "        large_comp.append(len(i))\n",
    "\n",
    "lengths = np.array(lengths)\n",
    "\n",
    "print(f'There are {counts} strongly connected components')\n",
    "print(f'The maximum component has {np.max(lengths)} nodes')\n",
    "print(f'And the minimum component has {np.min(lengths)} nodes')\n",
    "print(f'The whole network has {len(G)} nodes')\n",
    "print(f'There are only {len(large_comp)} components with a size larger than 50:')\n",
    "print(large_comp)"
   ]
  },
  {
   "cell_type": "markdown",
   "metadata": {},
   "source": [
    "As you can see, overall the components are very small.\n",
    "\n",
    "The next step will be to connect all those small components to the main network. \n",
    "\n",
    "For this there will be looped over all smaller networks. All nodes of the smaller network will be matched with the nearest node from the main network. The node with the smallest distance to the main, will be connected. This will be done with an incoming and outgoing edge. So for simplicity it will be assumed the main network can be used by going in both directions. \n",
    "\n",
    "The algorithm will be executed as often as is needed to make the network strongly connected. "
   ]
  },
  {
   "cell_type": "code",
   "execution_count": 69,
   "metadata": {},
   "outputs": [
    {
     "name": "stdout",
     "output_type": "stream",
     "text": [
      "Iteration 0\n",
      "1701 x 2 edges were added in this iteration\n",
      "\n",
      "Iteration 1\n",
      "283 x 2 edges were added in this iteration\n",
      "\n"
     ]
    }
   ],
   "source": [
    "# Create list of strongly connected components\n",
    " \n",
    "\n",
    "k = 0 # iterator to make sure while loop isn't infinite\n",
    "\n",
    "\n",
    "# Execute algorithm as long as network is not strongly connected\n",
    "while not nx.is_strongly_connected(G):\n",
    "    print(f'Iteration {k}')\n",
    "    \n",
    "    components = list(nx.strongly_connected_components(G))\n",
    "    k += 1\n",
    "    edge_count = 0 # Iterator to check no of edges added\n",
    "\n",
    "    for sub in components:\n",
    "\n",
    "        # Check if it is the main network\n",
    "        if len(sub) > 1000:\n",
    "\n",
    "            # Create matrix with all coordinates of the main network\n",
    "            A = np.array(list(nx.subgraph(G, sub).nodes()))\n",
    "        \n",
    "        else:\n",
    "            C = nx.subgraph(G, sub) # Create subgraph\n",
    "\n",
    "            # Initialize variables\n",
    "            small_dist = np.inf\n",
    "            small_index = -1\n",
    "            closest_node = -1\n",
    "\n",
    "            # Loop over all nodes in the subgraph\n",
    "            for node in C:\n",
    "                \n",
    "                # Compute the nearest node in the main network\n",
    "                dist, index = spatial.KDTree(A).query(list(node))\n",
    "                \n",
    "                # # Check if not same node accidentely\n",
    "                # if dist == 0:\n",
    "                #     A[index] = [-1, -1]\n",
    "                #     dist, index = spatial.KDTree(A).query(list(node))\n",
    "\n",
    "                # Check if the new distance is smaller than small_dist\n",
    "                # If true, update variables\n",
    "                if dist < small_dist:\n",
    "                    small_dist = dist\n",
    "                    small_index = index\n",
    "                    closest_node = node\n",
    "            \n",
    "            # Add edge between closest nodes in main and sub network\n",
    "            main_node = (A[small_index, 0], A[small_index, 1])\n",
    "            edge_count += 1\n",
    "            \n",
    "            # G.add_edge(closest_node, main_node, geometry=[closest_node, main_node])\n",
    "\n",
    "            dist_list.append(small_dist)\n",
    "\n",
    "            edge = (main_node, closest_node)\n",
    "            edge_list = G.in_edges\n",
    "\n",
    "            for i in range(2):\n",
    "                # Add all edge attributes in both directions\n",
    "                if i == 1:\n",
    "                    edge = (closest_node, main_node)\n",
    "                    edge_list = G.out_edges\n",
    "\n",
    "                G.add_edge(edge[0], edge[1], geometry=[edge[0], edge[1]])\n",
    "\n",
    "                G.edges[edge]['Max_speed'] = edge_list[list(edge_list(main_node))[0]]['Max_speed']\n",
    "                G.edges[edge]['Road_number'] = edge_list[list(edge_list(main_node))[0]]['Road_number']\n",
    "                G.edges[edge]['Road_section_id'] = 0\n",
    "                G.edges[edge]['Peak_speed'] = edge_list[list(edge_list(main_node))[0]]['Peak_speed']\n",
    "                G.edges[edge]['Min_travel_time_[s]'] = dist / (edge_list[list(edge_list(main_node))[0]]['Max_speed'] / 3.6)\n",
    "                G.edges[edge]['Peak_travel_time_[s]'] = dist / (edge_list[list(edge_list(main_node))[0]]['Peak_speed'] / 3.6)\n",
    "\n",
    "    print(f'{edge_count} x 2 edges were added in this iteration')\n",
    "    print()\n",
    "\n",
    "    if k == 20:\n",
    "        print('Too many iterations')\n",
    "        break"
   ]
  },
  {
   "cell_type": "markdown",
   "metadata": {},
   "source": [
    "Check if network is connected"
   ]
  },
  {
   "cell_type": "code",
   "execution_count": 72,
   "metadata": {},
   "outputs": [
    {
     "name": "stdout",
     "output_type": "stream",
     "text": [
      "Check if network is strongly connected: True\n",
      "Check if network is weakly connected: True\n"
     ]
    }
   ],
   "source": [
    "strong = nx.is_strongly_connected(G)\n",
    "weak = nx.is_weakly_connected(G)\n",
    "\n",
    "print(f'Check if network is strongly connected: {strong}')\n",
    "print(f'Check if network is weakly connected: {weak}')\n"
   ]
  },
  {
   "cell_type": "code",
   "execution_count": 86,
   "metadata": {},
   "outputs": [
    {
     "name": "stdout",
     "output_type": "stream",
     "text": [
      "All attributes have an edge?\n",
      "True\n"
     ]
    }
   ],
   "source": [
    "tot_edges = len(G.edges)\n",
    "tot_min_tt_attributes = len(nx.get_edge_attributes(G, 'Min_travel_time_[s]'))\n",
    "tot_peak_tt_attributes = len(nx.get_edge_attributes(G, 'Peak_travel_time_[s]'))\n",
    "\n",
    "print('All attributes have an edge?')\n",
    "print(tot_edges == tot_min_tt_attributes == tot_peak_tt_attributes)"
   ]
  },
  {
   "cell_type": "code",
   "execution_count": 87,
   "metadata": {},
   "outputs": [
    {
     "data": {
      "text/plain": [
       "array([], dtype=float64)"
      ]
     },
     "execution_count": 87,
     "metadata": {},
     "output_type": "execute_result"
    }
   ],
   "source": [
    "a = np.array(list(nx.get_edge_attributes(G, 'Min_travel_time_[s]').values()))\n",
    "a[a == np.nan]"
   ]
  },
  {
   "cell_type": "markdown",
   "metadata": {},
   "source": [
    "So all edges have values for travel time and there are no nan values. Now check the values for distance to the network"
   ]
  },
  {
   "cell_type": "code",
   "execution_count": 88,
   "metadata": {},
   "outputs": [],
   "source": [
    "dist_list = np.array(dist_list)"
   ]
  },
  {
   "cell_type": "code",
   "execution_count": 93,
   "metadata": {},
   "outputs": [
    {
     "name": "stdout",
     "output_type": "stream",
     "text": [
      "The mean length of an edge is 1755 m\n",
      "The median length of en edge is 29 m\n"
     ]
    },
    {
     "data": {
      "image/png": "[encoded data removed]",
      "text/plain": [
       "<Figure size 640x480 with 1 Axes>"
      ]
     },
     "metadata": {},
     "output_type": "display_data"
    }
   ],
   "source": [
    "plt.title('Boxplot of edge lengths')\n",
    "plt.boxplot(dist_list)\n",
    "plt.ylabel('Length of new edges')\n",
    "print(f'The mean length of an edge is {np.mean(dist_list):.0f} m')\n",
    "print(f'The median length of en edge is {np.median(dist_list):.0f} m')"
   ]
  },
  {
   "cell_type": "code",
   "execution_count": 99,
   "metadata": {},
   "outputs": [
    {
     "name": "stdout",
     "output_type": "stream",
     "text": [
      "69% of the edges are smaller than 100 meters\n",
      "86% of the edges are smaller than 500 meters\n"
     ]
    }
   ],
   "source": [
    "small_edges = len(dist_list[dist_list < 100])\n",
    "percentage = small_edges / len(dist_list) * 100\n",
    "\n",
    "bigger_edges = len(dist_list[dist_list < 500])\n",
    "percentage2 = bigger_edges / len(dist_list) * 100\n",
    "\n",
    "print(f'{percentage:.0f}% of the edges are smaller than 100 meters')\n",
    "print(f'{percentage2:.0f}% of the edges are smaller than 500 meters')"
   ]
  },
  {
   "cell_type": "markdown",
   "metadata": {},
   "source": [
    "So luckily, most edges are not too long, though there are very big and relatively many outliers. This means there is still room for improvement to create a more realistic network"
   ]
  },
  {
   "cell_type": "code",
   "execution_count": 100,
   "metadata": {},
   "outputs": [],
   "source": [
    "pickle.dump(G, open('NetworkX_graph_new.pickle', 'wb'))"
   ]
  },
  {
   "cell_type": "code",
   "execution_count": null,
   "metadata": {},
   "outputs": [],
   "source": []
  }
 ],
 "metadata": {
  "kernelspec": {
   "display_name": "geospatial",
   "language": "python",
   "name": "geospatial"
  },
  "language_info": {
   "codemirror_mode": {
    "name": "ipython",
    "version": 3
   },
   "file_extension": ".py",
   "mimetype": "text/x-python",
   "name": "python",
   "nbconvert_exporter": "python",
   "pygments_lexer": "ipython3",
   "version": "3.9.18"
  }
 },
 "nbformat": 4,
 "nbformat_minor": 2
}
