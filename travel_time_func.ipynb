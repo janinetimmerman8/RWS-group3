{
 "cells": [
  {
   "cell_type": "code",
   "execution_count": 1,
   "metadata": {},
   "outputs": [],
   "source": [
    "%matplotlib inline\n",
    "import geopandas as gpd\n",
    "import folium \n",
    "import json\n",
    "import pandas as pd\n",
    "import numpy as np\n",
    "\n",
    "from folium.plugins import HeatMap\n",
    "from folium.plugins import MarkerCluster\n",
    "import branca.colormap as cm\n",
    "from sklearn.cluster import DBSCAN\n",
    "\n",
    "import matplotlib.pyplot as plt\n",
    "import pickle\n",
    "import networkx as nx\n",
    "from scipy import spatial"
   ]
  },
  {
   "cell_type": "code",
   "execution_count": 2,
   "metadata": {},
   "outputs": [],
   "source": [
    "def WGS84toDutchRD(wgs84East, wgs84North):\n",
    "    # translated from Peter Knoppers's code\n",
    "\n",
    "    # wgs84East: longtitude\n",
    "    # wgs84North: latitude\n",
    "\n",
    "    # Western boundary of the Dutch RD system. */\n",
    "    WGS84_WEST_LIMIT = 3.2\n",
    "\n",
    "    # Eastern boundary of the Dutch RD system. */\n",
    "    WGS84_EAST_LIMIT = 7.3\n",
    "\n",
    "    # Northern boundary of the Dutch RD system. */\n",
    "    WGS84_SOUTH_LIMIT = 50.6\n",
    "\n",
    "    # Southern boundary of the Dutch RD system. */\n",
    "    WGS84_NORTH_LIMIT = 53.7\n",
    "\n",
    "    if (wgs84North > WGS84_NORTH_LIMIT) or \\\n",
    "        (wgs84North < WGS84_SOUTH_LIMIT) or \\\n",
    "        (wgs84East < WGS84_WEST_LIMIT) or \\\n",
    "        (wgs84East > WGS84_EAST_LIMIT):\n",
    "        resultX = -1\n",
    "        resultY = -1\n",
    "    else:\n",
    "        r = [[155000.00, 190094.945,   -0.008, -32.391, 0.0],\n",
    "            [-0.705, -11832.228,    0.0  ,   0.608, 0.0],\n",
    "            [0.0  ,   -114.221,    0.0  ,   0.148, 0.0],\n",
    "            [0.0  ,     -2.340,    0.0  ,   0.0  , 0.0],\n",
    "            [0.0  ,      0.0  ,    0.0  ,   0.0  , 0.0]]\n",
    "        s = [[463000.00 ,      0.433, 3638.893,   0.0  ,  0.092],\n",
    "            [309056.544,     -0.032, -157.984,   0.0  , -0.054],\n",
    "            [73.077,      0.0  ,   -6.439,   0.0  ,  0.0],\n",
    "            [59.788,      0.0  ,    0.0  ,   0.0  ,  0.0],\n",
    "            [0.0  ,      0.0  ,    0.0  ,   0.0  ,  0.0]]\n",
    "        resultX = 0\n",
    "        resultY = 0\n",
    "        powNorth = 1\n",
    "        dNorth = 0.36 * (wgs84North - 52.15517440)\n",
    "        dEast = 0.36 * (wgs84East - 5.38720621)\n",
    "\n",
    "        for p in range(5):\n",
    "            powEast = 1\n",
    "            for q in range(5):\n",
    "                resultX = resultX + r[p][q] * powEast * powNorth\n",
    "                resultY = resultY + s[p][q] * powEast * powNorth\n",
    "                powEast = powEast * dEast\n",
    "            powNorth = powNorth * dNorth\n",
    "    return resultX, resultY"
   ]
  },
  {
   "cell_type": "code",
   "execution_count": 3,
   "metadata": {},
   "outputs": [],
   "source": [
    "G = pickle.load(open('NetworkX_graph_new.pickle', 'rb'))"
   ]
  },
  {
   "cell_type": "code",
   "execution_count": 4,
   "metadata": {},
   "outputs": [],
   "source": [
    "# travel_time function\n",
    "def travel_time_func(point1, point2):\n",
    "    \"\"\"This function should use the information given in network X to return the travel time between two points\"\"\"\n",
    "\n",
    "    # Change points to Dutch system\n",
    "    p1_x, p1_y = WGS84toDutchRD(point1[0], point1[1]) # inspector\n",
    "    p2_x, p2_y = WGS84toDutchRD(point2[0], point2[1]) # incident\n",
    "\n",
    "    # Create numpy matrix from nodes\n",
    "    A = np.array(list(G.nodes()))\n",
    "\n",
    "    # Get node closest to each point\n",
    "    dist_node1, index_node1 = spatial.KDTree(A).query([p1_x, p1_y])\n",
    "    node1 = (A[index_node1][0], A[index_node1][1])\n",
    "\n",
    "    dist_node2, index_node2 = spatial.KDTree(A).query([p2_x, p2_y])\n",
    "    node2 = (A[index_node2][0], A[index_node2][1])\n",
    "\n",
    "    # Get shortest path between nodes\n",
    "    route = nx.shortest_path(G, node1, node2, 'Min_travel_time_[s]')\n",
    "    travel_time = nx.shortest_path_length(G, node1, node2, 'Min_travel_time_[s]')\n",
    "\n",
    "    # print(f'Distance to node 1: {dist_node1}')\n",
    "    # print(f'Distance to node 2: {dist_node2}')\n",
    "    # print(f'Travel time: {travel_time:.0f} [s]')\n",
    "\n",
    "    return route, travel_time"
   ]
  },
  {
   "cell_type": "code",
   "execution_count": null,
   "metadata": {},
   "outputs": [],
   "source": []
  },
  {
   "cell_type": "code",
   "execution_count": 5,
   "metadata": {},
   "outputs": [],
   "source": [
    "incidents = pd.read_csv('Dashboard_data\\incidents_data', sep=';')"
   ]
  },
  {
   "cell_type": "code",
   "execution_count": 6,
   "metadata": {},
   "outputs": [],
   "source": [
    "p1 = (incidents.iloc[0].longitude, incidents.iloc[0].latitude)\n",
    "p2 = (incidents.iloc[521].longitude, incidents.iloc[521].latitude)"
   ]
  },
  {
   "cell_type": "code",
   "execution_count": 7,
   "metadata": {},
   "outputs": [],
   "source": [
    "short_path, time = travel_time_func(p1, p2)"
   ]
  },
  {
   "cell_type": "code",
   "execution_count": 8,
   "metadata": {},
   "outputs": [
    {
     "data": {
      "text/plain": [
       "<matplotlib.collections.PathCollection at 0x1c49d6c3f40>"
      ]
     },
     "execution_count": 8,
     "metadata": {},
     "output_type": "execute_result"
    },
    {
     "data": {
      "image/png": "[encoded data removed]",
      "text/plain": [
       "<Figure size 640x480 with 1 Axes>"
      ]
     },
     "metadata": {},
     "output_type": "display_data"
    }
   ],
   "source": [
    "plt.figure()\n",
    "short_path, time = travel_time_func(p1, p2)\n",
    "B = np.array(short_path)\n",
    "\n",
    "plt.plot(B[:, 0], B[:, 1])\n",
    "plt.scatter(WGS84toDutchRD(p1[0], p1[1])[0], WGS84toDutchRD(p1[0], p1[1])[1], color='r')\n",
    "plt.scatter(WGS84toDutchRD(p2[0], p2[1])[0], WGS84toDutchRD(p2[0], p2[1])[1], color='g')"
   ]
  }
 ],
 "metadata": {
  "kernelspec": {
   "display_name": "geospatial",
   "language": "python",
   "name": "geospatial"
  },
  "language_info": {
   "codemirror_mode": {
    "name": "ipython",
    "version": 3
   },
   "file_extension": ".py",
   "mimetype": "text/x-python",
   "name": "python",
   "nbconvert_exporter": "python",
   "pygments_lexer": "ipython3",
   "version": "3.9.18"
  }
 },
 "nbformat": 4,
 "nbformat_minor": 2
}
