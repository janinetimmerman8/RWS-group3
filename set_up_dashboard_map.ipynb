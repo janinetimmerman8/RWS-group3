{
 "cells": [
  {
   "cell_type": "markdown",
   "metadata": {},
   "source": [
    "# ***THIS IS AN OUTDATED VERSION OF THE NOTEBOOK***\n",
    "\n",
    "#### ***see \"Dashboard_visuals_set_up.ipynb (or html)***"
   ]
  },
  {
   "cell_type": "markdown",
   "metadata": {},
   "source": [
    "This notebook is for testing the visuals for the dashboard and for making the html version of the folium map. Making it directly in streamlit takes way too much time."
   ]
  },
  {
   "cell_type": "code",
   "execution_count": 1,
   "metadata": {},
   "outputs": [],
   "source": [
    "import streamlit as st\n",
    "import numpy as np\n",
    "import matplotlib.pyplot as plt\n",
    "import folium\n",
    "from folium.plugins import HeatMap\n",
    "from folium.plugins import GroupedLayerControl\n",
    "from folium.plugins import FeatureGroupSubGroup\n",
    "import geopandas as gpd\n",
    "import pandas as pd\n",
    "from streamlit_folium import st_folium\n",
    "from pathlib import Path\n",
    "import branca.colormap as cm\n",
    "from collections import defaultdict\n",
    "from folium.plugins import MarkerCluster\n",
    "from sklearn.cluster import DBSCAN\n",
    "\n",
    "# Import visualize function to make things more organized\n",
    "# from Map_function_dashboard import visualize_map"
   ]
  },
  {
   "cell_type": "code",
   "execution_count": 54,
   "metadata": {},
   "outputs": [],
   "source": [
    "def DutchRDtoWGS84(rdX, rdY):\n",
    "    \"\"\" Convert DutchRD to WGS84\n",
    "    \"\"\"\n",
    "    RD_MINIMUM_X = 11000\n",
    "    RD_MAXIMUM_X = 280000\n",
    "    RD_MINIMUM_Y = 300000\n",
    "    RD_MAXIMUM_Y = 630000\n",
    "    if (rdX < RD_MINIMUM_X or rdX > RD_MAXIMUM_X\n",
    "        or rdY < RD_MINIMUM_Y or rdY > RD_MAXIMUM_Y):\n",
    "        resultNorth = -1\n",
    "        resultEast = -1\n",
    "        return resultNorth, resultEast\n",
    "    # else\n",
    "    dX = (rdX - 155000.0) / 100000.0\n",
    "    dY = (rdY - 463000.0) / 100000.0\n",
    "    k = [[3600 * 52.15517440, 3235.65389, -0.24750, -0.06550, 0.0],\n",
    "        [-0.00738   ,   -0.00012,  0.0    ,  0.0    , 0.0],\n",
    "        [-32.58297   ,   -0.84978, -0.01709, -0.00039, 0.0],\n",
    "        [0.0       ,    0.0    ,  0.0    ,  0.0    , 0.0],\n",
    "        [0.00530   ,    0.00033,  0.0    ,  0.0    , 0.0],\n",
    "        [0.0       ,    0.0    ,  0.0    ,  0.0    , 0.0]]\n",
    "    l = [[3600 * 5.38720621,    0.01199,  0.00022,  0.0    , 0.0],\n",
    "        [5260.52916   ,  105.94684,  2.45656,  0.05594, 0.00128],\n",
    "        [-0.00022   ,    0.0    ,  0.0    ,  0.0    , 0.0],\n",
    "        [-0.81885   ,   -0.05607, -0.00256,  0.0    , 0.0],\n",
    "        [0.0       ,    0.0    ,  0.0    ,  0.0    , 0.0],\n",
    "        [0.00026   ,    0.0    ,  0.0    ,  0.0    , 0.0]]\n",
    "    resultNorth = 0\n",
    "    resultEast = 0\n",
    "    powX = 1\n",
    "\n",
    "    for p in range(6):\n",
    "        powY = 1\n",
    "        for q in range(5):\n",
    "            resultNorth = resultNorth + k[p][q] * powX * powY / 3600.0\n",
    "            resultEast = resultEast + l[p][q] * powX * powY / 3600.0\n",
    "            powY = powY * dY\n",
    "        powX = powX * dX\n",
    "    return resultNorth, resultEast\n",
    "\n",
    "\n",
    "\n",
    "# @st.cache_resource\n",
    "def visualize_map(speed, incidents, opt_list):\n",
    "    \"\"\"\n",
    "    Visualize the final map with layers\n",
    "    \"\"\"\n",
    "\n",
    "    # Create map\n",
    "    map = folium.Map(location=[52.399190, 4.893658])\n",
    "\n",
    "    no_speed = folium.FeatureGroup(overlay=False, name='Show no speed')\n",
    "    max_speed = folium.FeatureGroup(overlay=False, show=True, name='Maximum speed limit')\n",
    "    peak_speed = folium.FeatureGroup(overlay=False, name='Average speed during peak hours')\n",
    "    \n",
    "    no_incidents = folium.FeatureGroup(name='Show no incidents')\n",
    "    incidents_heatmap = folium.FeatureGroup(name='Incidents heatmap')\n",
    "    incident_clusters = folium.FeatureGroup(name='Incident clusters')\n",
    "\n",
    "\n",
    "    cluster_opt = folium.FeatureGroup(overlay=True, show=True, name='Method 1: K-means method based on distance - optimal conditions')\n",
    "    cluster_opt_peak = folium.FeatureGroup(overlay=True, show=False, name='Method 1: K-means method based on distance - peak hour')\n",
    "\n",
    "    cluster2_opt = folium.FeatureGroup(overlay=True, show=True, name='Method 2: K-means method based on travel time - optimal conditions')\n",
    "    ml_opt = folium.FeatureGroup(overlay=True, show=True, name='Method 3: Simulated Annealing - optimal conditions')\n",
    "    freq_opt = folium.FeatureGroup(overlay=True, show=True, name='Method 4: Frequency-based - optimal conditions')\n",
    "\n",
    "\n",
    "    # Colormaps for speed\n",
    "    colormap = cm.LinearColormap(colors=['red','green'], vmin=70, vmax=130)\n",
    "    colormap = colormap.to_step(index=[70, 80, 90, 100, 110, 120, 130])\n",
    "    colormap.caption = 'Speed of the cars [km/h]'\n",
    "    colormap.add_to(map)\n",
    "\n",
    "    nan_color = cm.LinearColormap(colors=['white', 'white'])\n",
    "\n",
    "\n",
    "    # Create right coordinates\n",
    "    speed['coords'] = speed.geometry.apply(lambda geom: list(geom.coords))\n",
    "\n",
    "    # Loop over all road sections for speed\n",
    "    for i in speed.index:\n",
    "        \n",
    "        # Get coordinates to right coordinate system\n",
    "        updated_coords = []\n",
    "\n",
    "        for j in range(len(speed['coords'][i])):\n",
    "            # st.write(i, j)\n",
    "            # st.write(speed['coords'][i][j][0])\n",
    "            new_cords = DutchRDtoWGS84(speed['coords'][i][j][0], speed['coords'][i][j][1])\n",
    "            updated_coords.append(new_cords)\n",
    "        \n",
    "        # Add color lines for max speed\n",
    "        if speed['Max_speed'][i] != speed['Max_speed'][i]:\n",
    "            max_color = nan_color\n",
    "        else:\n",
    "            max_color = colormap\n",
    "\n",
    "        folium.ColorLine(\n",
    "            positions = updated_coords, # tuple of coordinates \n",
    "            colors = [speed['Max_speed'][i]] * (len(updated_coords) - 1), # map each segment with the speed \n",
    "            colormap =  max_color, # map each value with a color \n",
    "            weight = 3\n",
    "            ).add_to(max_speed)\n",
    "        \n",
    "\n",
    "        # Add color lines for peak hour speed\n",
    "        if speed['Peak_speed'][i] != speed['Peak_speed'][i]:\n",
    "            peak_color = nan_color\n",
    "        else:\n",
    "            peak_color = colormap\n",
    "\n",
    "        folium.ColorLine(\n",
    "            positions = updated_coords, # tuple of coordinates \n",
    "            colors = [speed['Peak_speed'][i]] * (len(updated_coords) - 1), # map each segment with the speed \n",
    "            colormap =  peak_color, # map each value with a color \n",
    "            weight = 3\n",
    "            ).add_to(peak_speed)\n",
    "\n",
    "    # Create heatmap incidents\n",
    "    new_data = incidents.loc[incidents['type'] == 'accident']\n",
    "    # Extract the latitude and longitude as a list of lists\n",
    "    heat_data = [[row['latitude'], row['longitude']] for _, row in new_data.iterrows()]\n",
    "    # Create a heatmap layer\n",
    "    HeatMap(heat_data).add_to(incidents_heatmap)\n",
    "\n",
    "    # Create clusters\n",
    "    eps = 0.1\n",
    "    min_samples = 100\n",
    "    data = incidents\n",
    "    # Create a DBSCAN clustering model\n",
    "    dbscan = DBSCAN(eps=eps, min_samples=min_samples, metric='haversine', algorithm='ball_tree')\n",
    "\n",
    "    # Fit the model to the latitude and longitude data\n",
    "    dbscan.fit(data[['latitude', 'longitude']].values)\n",
    "\n",
    "    # Assign cluster labels to data points\n",
    "    data['cluster'] = dbscan.labels_\n",
    "\n",
    "    # Filter out noise points (-1 labels)\n",
    "    clustered_data = data[data['cluster'] != -1]\n",
    "\n",
    "    # Create a MarkerCluster layer for clustered data\n",
    "    marker_cluster = MarkerCluster().add_to(incident_clusters)\n",
    "\n",
    "    # Add markers for clustering\n",
    "    for _, row in clustered_data.iterrows():\n",
    "        popup_text = f\"Cluster: {row['cluster']}<br>Type: {row['type']}<br>Index: {row['index']}\"\n",
    "        folium.Marker([row['latitude'], row['longitude']], icon=None, popup=popup_text).add_to(marker_cluster)\n",
    "\n",
    "\n",
    "    color = ['red', 'blue', 'green', 'orange', 'purple']\n",
    "    opt = [cluster_opt, cluster_opt_peak, cluster2_opt, ml_opt, freq_opt]\n",
    "    # Optimization method 1\n",
    "    for m in range(len(opt_list)):\n",
    "\n",
    "        for i in range(len(opt_list[m])):\n",
    "            icon=folium.Icon(color=color[m])\n",
    "            opt[m].add_child(folium.Marker((opt_list[m]['0'][i], \n",
    "                                                 opt_list[m]['1'][i]), icon=icon))\n",
    "\n",
    "    \n",
    "\n",
    "    no_speed.add_to(map)\n",
    "    max_speed.add_to(map)\n",
    "    peak_speed.add_to(map)\n",
    "\n",
    "\n",
    "    no_incidents.add_to(map)\n",
    "    incidents_heatmap.add_to(map)\n",
    "    incident_clusters.add_to(map)\n",
    "\n",
    "    cluster_opt.add_to(map)\n",
    "    cluster_opt_peak.add_to(map)\n",
    "    cluster2_opt.add_to(map)\n",
    "    ml_opt.add_to(map)\n",
    "    freq_opt.add_to(map)\n",
    "\n",
    "    # folium.LayerControl(overlay=True, collapsed=False).add_to(map)\n",
    "\n",
    "    GroupedLayerControl(\n",
    "            groups={\n",
    "                    '_________Speed_________': [max_speed, peak_speed, no_speed],\n",
    "                    '________Incidents________':[no_incidents, incidents_heatmap, incident_clusters],},\n",
    "            \n",
    "            # exclusive_groups=False,\n",
    "            collapsed=True,\n",
    "            ).add_to(map)\n",
    "    \n",
    "    \n",
    "    GroupedLayerControl(\n",
    "            groups={'Optimization methods': opt},\n",
    "            collapsed=False, exclusive_groups=False,\n",
    "            ).add_to(map)\n",
    "\n",
    "    return map"
   ]
  },
  {
   "cell_type": "code",
   "execution_count": 55,
   "metadata": {},
   "outputs": [],
   "source": [
    "speed = gpd.read_file('Dashboard_data\\speed_data.shp')\n",
    "incidents = pd.read_csv('Dashboard_data\\incidents_data', sep=';')"
   ]
  },
  {
   "cell_type": "code",
   "execution_count": 56,
   "metadata": {},
   "outputs": [],
   "source": [
    "cluster_min_inspector_loc = pd.read_csv('Dashboard_data\\Optimization_results\\cluster_min_inspector_locations.csv', sep=';')\n",
    "cluster_min_travel_time = pd.read_csv('Dashboard_data\\Optimization_results\\cluster_min_travel_time_to_incident.csv', sep=';')\n",
    "\n",
    "cluster_peak_inspector_loc = pd.read_csv('Dashboard_data\\Optimization_results\\cluster_peak_inspector_locations.csv', sep=';')\n",
    "cluster_peak_travel_time = pd.read_csv('Dashboard_data\\Optimization_results\\cluster_peak_travel_time_to_incident.csv', sep=';')\n",
    "\n",
    "ml_inspector_loc = pd.read_csv('Dashboard_data\\Optimization_results\\ml_inspector_loc.csv')\n",
    "cluster2_inspector_loc = pd.read_csv('Dashboard_data\\Optimization_results\\cluster2_inspector_loc.csv')"
   ]
  },
  {
   "cell_type": "code",
   "execution_count": 57,
   "metadata": {},
   "outputs": [],
   "source": [
    "cluster2_tt = pd.read_csv('Dashboard_data\\Optimization_results\\cluster2_tt.csv')"
   ]
  },
  {
   "cell_type": "code",
   "execution_count": 58,
   "metadata": {},
   "outputs": [],
   "source": [
    "freq_inspector = pd.read_csv(r'Dashboard_data\\Optimization_results\\frequency_inspector_location_rerun', index_col=0)\n",
    "freq_loc = pd.read_csv(r'Dashboard_data\\Optimization_results\\frequency_travel_time_per_incident_rerun')"
   ]
  },
  {
   "cell_type": "code",
   "execution_count": 59,
   "metadata": {},
   "outputs": [],
   "source": [
    "# np.array(freq_inspector)\n",
    "\n",
    "freq_inspector_df = pd.DataFrame(np.array(freq_inspector), columns=['0', '1'])"
   ]
  },
  {
   "cell_type": "code",
   "execution_count": 60,
   "metadata": {},
   "outputs": [
    {
     "data": {
      "text/html": [
       "<div>\n",
       "<style scoped>\n",
       "    .dataframe tbody tr th:only-of-type {\n",
       "        vertical-align: middle;\n",
       "    }\n",
       "\n",
       "    .dataframe tbody tr th {\n",
       "        vertical-align: top;\n",
       "    }\n",
       "\n",
       "    .dataframe thead th {\n",
       "        text-align: right;\n",
       "    }\n",
       "</style>\n",
       "<table border=\"1\" class=\"dataframe\">\n",
       "  <thead>\n",
       "    <tr style=\"text-align: right;\">\n",
       "      <th></th>\n",
       "      <th>0</th>\n",
       "      <th>1</th>\n",
       "    </tr>\n",
       "  </thead>\n",
       "  <tbody>\n",
       "    <tr>\n",
       "      <th>0</th>\n",
       "      <td>52.114037</td>\n",
       "      <td>4.464330</td>\n",
       "    </tr>\n",
       "    <tr>\n",
       "      <th>1</th>\n",
       "      <td>52.077426</td>\n",
       "      <td>4.404451</td>\n",
       "    </tr>\n",
       "    <tr>\n",
       "      <th>2</th>\n",
       "      <td>51.470079</td>\n",
       "      <td>5.404912</td>\n",
       "    </tr>\n",
       "    <tr>\n",
       "      <th>3</th>\n",
       "      <td>52.111585</td>\n",
       "      <td>5.048051</td>\n",
       "    </tr>\n",
       "    <tr>\n",
       "      <th>4</th>\n",
       "      <td>52.416876</td>\n",
       "      <td>4.867038</td>\n",
       "    </tr>\n",
       "    <tr>\n",
       "      <th>...</th>\n",
       "      <td>...</td>\n",
       "      <td>...</td>\n",
       "    </tr>\n",
       "    <tr>\n",
       "      <th>66</th>\n",
       "      <td>52.325700</td>\n",
       "      <td>5.057777</td>\n",
       "    </tr>\n",
       "    <tr>\n",
       "      <th>67</th>\n",
       "      <td>51.978625</td>\n",
       "      <td>4.333334</td>\n",
       "    </tr>\n",
       "    <tr>\n",
       "      <th>68</th>\n",
       "      <td>51.638078</td>\n",
       "      <td>4.697361</td>\n",
       "    </tr>\n",
       "    <tr>\n",
       "      <th>69</th>\n",
       "      <td>51.477459</td>\n",
       "      <td>5.404145</td>\n",
       "    </tr>\n",
       "    <tr>\n",
       "      <th>70</th>\n",
       "      <td>52.213121</td>\n",
       "      <td>6.023048</td>\n",
       "    </tr>\n",
       "  </tbody>\n",
       "</table>\n",
       "<p>71 rows × 2 columns</p>\n",
       "</div>"
      ],
      "text/plain": [
       "            0         1\n",
       "0   52.114037  4.464330\n",
       "1   52.077426  4.404451\n",
       "2   51.470079  5.404912\n",
       "3   52.111585  5.048051\n",
       "4   52.416876  4.867038\n",
       "..        ...       ...\n",
       "66  52.325700  5.057777\n",
       "67  51.978625  4.333334\n",
       "68  51.638078  4.697361\n",
       "69  51.477459  5.404145\n",
       "70  52.213121  6.023048\n",
       "\n",
       "[71 rows x 2 columns]"
      ]
     },
     "execution_count": 60,
     "metadata": {},
     "output_type": "execute_result"
    }
   ],
   "source": [
    "freq_inspector_df"
   ]
  },
  {
   "cell_type": "code",
   "execution_count": 61,
   "metadata": {},
   "outputs": [],
   "source": [
    "cluster2_loc = np.zeros((len(cluster2_inspector_loc), 2))\n",
    "\n",
    "for i in range(len(cluster2_loc)):\n",
    "    cluster2_loc[i] = np.array(cluster2_inspector_loc['Location'][i].split()).astype(float)\n",
    "\n",
    "cluster2_loc_df = pd.DataFrame(cluster2_loc, columns=['0', '1'])"
   ]
  },
  {
   "cell_type": "code",
   "execution_count": 62,
   "metadata": {},
   "outputs": [],
   "source": [
    "# cluster2_loc_df['1']"
   ]
  },
  {
   "cell_type": "code",
   "execution_count": 63,
   "metadata": {},
   "outputs": [],
   "source": [
    "opt_results = [cluster_min_inspector_loc, cluster_peak_inspector_loc, \n",
    "               cluster2_loc_df, ml_inspector_loc, freq_inspector_df]"
   ]
  },
  {
   "cell_type": "code",
   "execution_count": 69,
   "metadata": {},
   "outputs": [],
   "source": [
    "# # Loading this code takes up too much space. Uncomment this when editing the map\n",
    "# map = visualize_map(speed, incidents, opt_results)\n",
    "# map"
   ]
  },
  {
   "cell_type": "code",
   "execution_count": 70,
   "metadata": {},
   "outputs": [],
   "source": [
    "# # Save map as html\n",
    "# # Uncomment this when making new version of the map\n",
    "# map.save('Dashboard_data\\Dashboard_map.html')"
   ]
  },
  {
   "cell_type": "code",
   "execution_count": 9,
   "metadata": {},
   "outputs": [],
   "source": [
    "incidents_df = incidents\n",
    "incidents_df['start_time'] = pd.to_datetime(incidents_df['start_time'])\n",
    "incidents_df['end_time'] = pd.to_datetime(incidents_df['end_time'])"
   ]
  },
  {
   "cell_type": "code",
   "execution_count": null,
   "metadata": {},
   "outputs": [],
   "source": []
  },
  {
   "cell_type": "code",
   "execution_count": 10,
   "metadata": {},
   "outputs": [
    {
     "data": {
      "image/png": "[encoded data removed]",
      "text/plain": [
       "<Figure size 1200x600 with 1 Axes>"
      ]
     },
     "metadata": {},
     "output_type": "display_data"
    }
   ],
   "source": [
    "\n",
    "\n",
    "def bar_chart_incidents():\n",
    "\n",
    "    incidents_df['hour_of_day'] = incidents_df['start_time'].apply(lambda x: x.hour)\n",
    "    hourly_counts = incidents_df.groupby('hour_of_day').size().reset_index(name='accident_count')\n",
    "\n",
    "    fig = plt.figure(figsize=(12, 6))\n",
    "    plt.bar(hourly_counts['hour_of_day'], hourly_counts['accident_count'])\n",
    "    plt.xlabel('Hour of a day')\n",
    "    plt.ylabel('Accidents count')\n",
    "    plt.title('Accident count by hour of day')\n",
    "    plt.xticks(hourly_counts['hour_of_day'])\n",
    "\n",
    "    plt.axvspan(0, 5, alpha=0.2, color='red', label='0-5h')\n",
    "    plt.axvspan(6, 9, alpha=0.2, color='black', label='6-9h')\n",
    "    plt.axvspan(10, 14, alpha=0.2, color='green', label='10-14h')\n",
    "    plt.axvspan(15, 18, alpha=0.2, color='yellow', label='15-18h')\n",
    "    plt.axvspan(19, 23, alpha=0.2, color='orange', label='19-23h')\n",
    "    plt.legend()\n",
    "\n",
    "    return fig\n",
    "\n",
    "fig = bar_chart_incidents()"
   ]
  },
  {
   "cell_type": "code",
   "execution_count": 11,
   "metadata": {},
   "outputs": [],
   "source": [
    "fig.savefig('Dashboard_data\\incident_day.png')"
   ]
  },
  {
   "cell_type": "code",
   "execution_count": 12,
   "metadata": {},
   "outputs": [
    {
     "data": {
      "text/plain": [
       "Text(0.5, 1.0, 'Boxplot of speed distribution')"
      ]
     },
     "execution_count": 12,
     "metadata": {},
     "output_type": "execute_result"
    },
    {
     "data": {
      "image/png": "[encoded data removed]",
      "text/plain": [
       "<Figure size 800x600 with 1 Axes>"
      ]
     },
     "metadata": {},
     "output_type": "display_data"
    }
   ],
   "source": [
    "fig_2 = plt.figure(figsize=(8, 6))\n",
    "\n",
    "category = ['Max_speed', 'Peak_speed']\n",
    "\n",
    "for i in range(2):\n",
    "    bp = plt.boxplot(speed[category[i]], patch_artist=True, \n",
    "                showmeans=False, positions=[i])\n",
    "\n",
    "    for item in ['boxes', 'whiskers', 'medians', 'caps']:\n",
    "            plt.setp(bp[item], color='darkred')\n",
    "\n",
    "    plt.setp(bp['boxes'], facecolor='lightsalmon', alpha=0.6)\n",
    "    plt.setp(bp['fliers'], markeredgecolor='darkred')\n",
    "\n",
    "plt.ylabel('Speed on the higways [km/h]')\n",
    "plt.xticks([0, 1], labels=['Maximum speed', 'Peak hour speed'])\n",
    "plt.title('Boxplot of speed distribution')\n"
   ]
  },
  {
   "cell_type": "code",
   "execution_count": 13,
   "metadata": {},
   "outputs": [],
   "source": [
    "fig_2.savefig('Dashboard_data\\Speed_boxplot.png')"
   ]
  },
  {
   "cell_type": "markdown",
   "metadata": {},
   "source": [
    "## Boxplots for time differences "
   ]
  },
  {
   "cell_type": "code",
   "execution_count": 31,
   "metadata": {},
   "outputs": [
    {
     "data": {
      "image/png": "[encoded data removed]",
      "text/plain": [
       "<Figure size 1200x600 with 1 Axes>"
      ]
     },
     "metadata": {},
     "output_type": "display_data"
    }
   ],
   "source": [
    "fig_2 = plt.figure(figsize=(12, 6))\n",
    "\n",
    "category = ['K-means - distance', 'K-means - travel time', 'Simulated annealing', 'Frequency-based']\n",
    "methods = [cluster_min_travel_time['time_this'] / 60, cluster2_tt['Minimum Travel Time'] / 60, \n",
    "           [0], freq_loc['min_travel_time[s]']]\n",
    "\n",
    "for i in range(4):\n",
    "    bp = plt.boxplot(methods[i], patch_artist=True, \n",
    "                showmeans=False, positions=[i])\n",
    "\n",
    "    for item in ['boxes', 'whiskers', 'medians', 'caps']:\n",
    "            plt.setp(bp[item], color='darkred')\n",
    "\n",
    "    plt.setp(bp['boxes'], facecolor='lightsalmon', alpha=0.6)\n",
    "    plt.setp(bp['fliers'], markeredgecolor='darkred')\n",
    "\n",
    "plt.ylabel('Time to accidents [min]')\n",
    "plt.xlabel('Optimization methods')\n",
    "plt.xticks(np.arange(4), labels=category)\n",
    "plt.yticks(np.arange(0, 100, 10))\n",
    "plt.title('Boxplot of time-to-accident distribution for the different methods')\n",
    "plt.grid(axis='y')"
   ]
  },
  {
   "cell_type": "code",
   "execution_count": 42,
   "metadata": {},
   "outputs": [],
   "source": [
    "fig_2.savefig('Dashboard_data\\Opt_boxplot.png')"
   ]
  },
  {
   "cell_type": "code",
   "execution_count": null,
   "metadata": {},
   "outputs": [],
   "source": []
  },
  {
   "cell_type": "markdown",
   "metadata": {},
   "source": [
    "## Overview results"
   ]
  },
  {
   "cell_type": "code",
   "execution_count": 15,
   "metadata": {},
   "outputs": [],
   "source": [
    "def get_mean(data):\n",
    "    \"\"\"\"Returns string of mean travel time in minutes\"\"\"\n",
    "    m = data.mean()\n",
    "\n",
    "    minutes = m // 60\n",
    "    seconds = m % 60\n",
    "\n",
    "    if seconds < 10:\n",
    "        result = f'{minutes:.0f}:0{seconds:.0f}'\n",
    "    else:\n",
    "        result = f'{minutes:.0f}:{seconds:.0f}'\n",
    "\n",
    "    return result\n",
    "\n",
    "def get_median(data):\n",
    "    \"\"\"\"Returns string of mean travel time in minutes\"\"\"\n",
    "    m = data.median()\n",
    "\n",
    "    minutes = m // 60\n",
    "    seconds = m % 60\n",
    "\n",
    "    if seconds < 10:\n",
    "        result = f'{minutes:.0f}:0{seconds:.0f}'\n",
    "    else:\n",
    "        result = f'{minutes:.0f}:{seconds:.0f}'\n",
    "\n",
    "    return result"
   ]
  },
  {
   "cell_type": "code",
   "execution_count": 66,
   "metadata": {},
   "outputs": [],
   "source": [
    "data = {'Method': ['K-means - distance', 'K-means - travel time', 'Simulated annealing', 'Frequency-based'],\n",
    "    'No. of inspectors': [len(cluster_min_inspector_loc), len(cluster2_loc_df), \n",
    "                            len(ml_inspector_loc), len(freq_inspector_df)],\n",
    "    'Average travel time [min:sec]': [get_mean(cluster_min_travel_time['time_this']), \n",
    "                                      get_mean(cluster2_tt['Minimum Travel Time']), 0, \n",
    "                                      get_mean(freq_loc['min_travel_time[s]'] * 60)],\n",
    "    'Median travel time [min:sec]': [get_median(cluster_min_travel_time['time_this']), \n",
    "                                     get_median(cluster2_tt['Minimum Travel Time']), 0, \n",
    "                                     get_median(freq_loc['min_travel_time[s]'] * 60)]}\n",
    "\n",
    "results = pd.DataFrame(data)\n"
   ]
  },
  {
   "cell_type": "code",
   "execution_count": 67,
   "metadata": {},
   "outputs": [
    {
     "data": {
      "text/html": [
       "<div>\n",
       "<style scoped>\n",
       "    .dataframe tbody tr th:only-of-type {\n",
       "        vertical-align: middle;\n",
       "    }\n",
       "\n",
       "    .dataframe tbody tr th {\n",
       "        vertical-align: top;\n",
       "    }\n",
       "\n",
       "    .dataframe thead th {\n",
       "        text-align: right;\n",
       "    }\n",
       "</style>\n",
       "<table border=\"1\" class=\"dataframe\">\n",
       "  <thead>\n",
       "    <tr style=\"text-align: right;\">\n",
       "      <th></th>\n",
       "      <th>Method</th>\n",
       "      <th>No. of inspectors</th>\n",
       "      <th>Average travel time [min:sec]</th>\n",
       "      <th>Median travel time [min:sec]</th>\n",
       "    </tr>\n",
       "  </thead>\n",
       "  <tbody>\n",
       "    <tr>\n",
       "      <th>0</th>\n",
       "      <td>K-means - distance</td>\n",
       "      <td>47</td>\n",
       "      <td>17:59</td>\n",
       "      <td>14:09</td>\n",
       "    </tr>\n",
       "    <tr>\n",
       "      <th>1</th>\n",
       "      <td>K-means - travel time</td>\n",
       "      <td>60</td>\n",
       "      <td>10:60</td>\n",
       "      <td>10:44</td>\n",
       "    </tr>\n",
       "    <tr>\n",
       "      <th>2</th>\n",
       "      <td>Simulated annealing</td>\n",
       "      <td>50</td>\n",
       "      <td>0</td>\n",
       "      <td>0</td>\n",
       "    </tr>\n",
       "    <tr>\n",
       "      <th>3</th>\n",
       "      <td>Frequency-based</td>\n",
       "      <td>71</td>\n",
       "      <td>16:51</td>\n",
       "      <td>10:16</td>\n",
       "    </tr>\n",
       "  </tbody>\n",
       "</table>\n",
       "</div>"
      ],
      "text/plain": [
       "                  Method  No. of inspectors Average travel time [min:sec]  \\\n",
       "0     K-means - distance                 47                         17:59   \n",
       "1  K-means - travel time                 60                         10:60   \n",
       "2    Simulated annealing                 50                             0   \n",
       "3        Frequency-based                 71                         16:51   \n",
       "\n",
       "  Median travel time [min:sec]  \n",
       "0                        14:09  \n",
       "1                        10:44  \n",
       "2                            0  \n",
       "3                        10:16  "
      ]
     },
     "execution_count": 67,
     "metadata": {},
     "output_type": "execute_result"
    }
   ],
   "source": [
    "results"
   ]
  },
  {
   "cell_type": "code",
   "execution_count": 68,
   "metadata": {},
   "outputs": [],
   "source": [
    "results.to_csv('Dashboard_data\\Results_df')"
   ]
  },
  {
   "cell_type": "markdown",
   "metadata": {},
   "source": [
    "Now for peak hour conditions:"
   ]
  },
  {
   "cell_type": "code",
   "execution_count": 31,
   "metadata": {},
   "outputs": [
    {
     "data": {
      "text/html": [
       "<div>\n",
       "<style scoped>\n",
       "    .dataframe tbody tr th:only-of-type {\n",
       "        vertical-align: middle;\n",
       "    }\n",
       "\n",
       "    .dataframe tbody tr th {\n",
       "        vertical-align: top;\n",
       "    }\n",
       "\n",
       "    .dataframe thead th {\n",
       "        text-align: right;\n",
       "    }\n",
       "</style>\n",
       "<table border=\"1\" class=\"dataframe\">\n",
       "  <thead>\n",
       "    <tr style=\"text-align: right;\">\n",
       "      <th></th>\n",
       "      <th>Method</th>\n",
       "      <th>No. of inspectors</th>\n",
       "      <th>Average travel time [min:sec]</th>\n",
       "      <th>Median travel time [min:sec]</th>\n",
       "    </tr>\n",
       "  </thead>\n",
       "  <tbody>\n",
       "    <tr>\n",
       "      <th>0</th>\n",
       "      <td>Clustering</td>\n",
       "      <td>84</td>\n",
       "      <td>19:52</td>\n",
       "      <td>13:58</td>\n",
       "    </tr>\n",
       "    <tr>\n",
       "      <th>1</th>\n",
       "      <td>method2</td>\n",
       "      <td>0</td>\n",
       "      <td>0</td>\n",
       "      <td>0</td>\n",
       "    </tr>\n",
       "    <tr>\n",
       "      <th>2</th>\n",
       "      <td>method3</td>\n",
       "      <td>0</td>\n",
       "      <td>0</td>\n",
       "      <td>0</td>\n",
       "    </tr>\n",
       "    <tr>\n",
       "      <th>3</th>\n",
       "      <td>method4</td>\n",
       "      <td>0</td>\n",
       "      <td>0</td>\n",
       "      <td>0</td>\n",
       "    </tr>\n",
       "  </tbody>\n",
       "</table>\n",
       "</div>"
      ],
      "text/plain": [
       "       Method  No. of inspectors Average travel time [min:sec]  \\\n",
       "0  Clustering                 84                         19:52   \n",
       "1     method2                  0                             0   \n",
       "2     method3                  0                             0   \n",
       "3     method4                  0                             0   \n",
       "\n",
       "  Median travel time [min:sec]  \n",
       "0                        13:58  \n",
       "1                            0  \n",
       "2                            0  \n",
       "3                            0  "
      ]
     },
     "execution_count": 31,
     "metadata": {},
     "output_type": "execute_result"
    }
   ],
   "source": [
    "data = {'Method': ['Clustering', 'method2', 'method3', 'method4'],\n",
    "    'No. of inspectors': [len(cluster_peak_inspector_loc), 0, 0, 0],\n",
    "    'Average travel time [min:sec]': [get_mean(cluster_peak_travel_time['time_this']), 0, 0, 0],\n",
    "    'Median travel time [min:sec]': [get_median(cluster_peak_travel_time['time_this']), 0, 0, 0]}\n",
    "\n",
    "results = pd.DataFrame(data)\n",
    "\n",
    "results"
   ]
  },
  {
   "cell_type": "code",
   "execution_count": 32,
   "metadata": {},
   "outputs": [],
   "source": [
    "results.to_csv('Dashboard_data\\Results_peak_df')"
   ]
  },
  {
   "cell_type": "markdown",
   "metadata": {},
   "source": [
    "Load dataframes to check if saving went correctly"
   ]
  },
  {
   "cell_type": "code",
   "execution_count": 54,
   "metadata": {},
   "outputs": [
    {
     "data": {
      "text/html": [
       "<div>\n",
       "<style scoped>\n",
       "    .dataframe tbody tr th:only-of-type {\n",
       "        vertical-align: middle;\n",
       "    }\n",
       "\n",
       "    .dataframe tbody tr th {\n",
       "        vertical-align: top;\n",
       "    }\n",
       "\n",
       "    .dataframe thead th {\n",
       "        text-align: right;\n",
       "    }\n",
       "</style>\n",
       "<table border=\"1\" class=\"dataframe\">\n",
       "  <thead>\n",
       "    <tr style=\"text-align: right;\">\n",
       "      <th></th>\n",
       "      <th>Method</th>\n",
       "      <th>No. of inspectors</th>\n",
       "      <th>Average travel time [min:sec]</th>\n",
       "      <th>Median travel time [min:sec]</th>\n",
       "    </tr>\n",
       "  </thead>\n",
       "  <tbody>\n",
       "    <tr>\n",
       "      <th>0</th>\n",
       "      <td>Clustering 1</td>\n",
       "      <td>47</td>\n",
       "      <td>17:59</td>\n",
       "      <td>14:09</td>\n",
       "    </tr>\n",
       "    <tr>\n",
       "      <th>1</th>\n",
       "      <td>Clustering 2</td>\n",
       "      <td>60</td>\n",
       "      <td>0</td>\n",
       "      <td>0</td>\n",
       "    </tr>\n",
       "    <tr>\n",
       "      <th>2</th>\n",
       "      <td>Machine Learning</td>\n",
       "      <td>50</td>\n",
       "      <td>0</td>\n",
       "      <td>0</td>\n",
       "    </tr>\n",
       "    <tr>\n",
       "      <th>3</th>\n",
       "      <td>Frequency-based</td>\n",
       "      <td>0</td>\n",
       "      <td>0</td>\n",
       "      <td>0</td>\n",
       "    </tr>\n",
       "  </tbody>\n",
       "</table>\n",
       "</div>"
      ],
      "text/plain": [
       "             Method  No. of inspectors Average travel time [min:sec]  \\\n",
       "0      Clustering 1                 47                         17:59   \n",
       "1      Clustering 2                 60                             0   \n",
       "2  Machine Learning                 50                             0   \n",
       "3   Frequency-based                  0                             0   \n",
       "\n",
       "  Median travel time [min:sec]  \n",
       "0                        14:09  \n",
       "1                            0  \n",
       "2                            0  \n",
       "3                            0  "
      ]
     },
     "execution_count": 54,
     "metadata": {},
     "output_type": "execute_result"
    }
   ],
   "source": [
    "pd.read_csv('Dashboard_data\\Results_df', index_col=0)"
   ]
  },
  {
   "cell_type": "code",
   "execution_count": 33,
   "metadata": {},
   "outputs": [
    {
     "data": {
      "text/html": [
       "<div>\n",
       "<style scoped>\n",
       "    .dataframe tbody tr th:only-of-type {\n",
       "        vertical-align: middle;\n",
       "    }\n",
       "\n",
       "    .dataframe tbody tr th {\n",
       "        vertical-align: top;\n",
       "    }\n",
       "\n",
       "    .dataframe thead th {\n",
       "        text-align: right;\n",
       "    }\n",
       "</style>\n",
       "<table border=\"1\" class=\"dataframe\">\n",
       "  <thead>\n",
       "    <tr style=\"text-align: right;\">\n",
       "      <th></th>\n",
       "      <th>Method</th>\n",
       "      <th>No. of inspectors</th>\n",
       "      <th>Average travel time [min:sec]</th>\n",
       "      <th>Median travel time [min:sec]</th>\n",
       "    </tr>\n",
       "  </thead>\n",
       "  <tbody>\n",
       "    <tr>\n",
       "      <th>0</th>\n",
       "      <td>Clustering</td>\n",
       "      <td>84</td>\n",
       "      <td>19:52</td>\n",
       "      <td>13:58</td>\n",
       "    </tr>\n",
       "    <tr>\n",
       "      <th>1</th>\n",
       "      <td>method2</td>\n",
       "      <td>0</td>\n",
       "      <td>0</td>\n",
       "      <td>0</td>\n",
       "    </tr>\n",
       "    <tr>\n",
       "      <th>2</th>\n",
       "      <td>method3</td>\n",
       "      <td>0</td>\n",
       "      <td>0</td>\n",
       "      <td>0</td>\n",
       "    </tr>\n",
       "    <tr>\n",
       "      <th>3</th>\n",
       "      <td>method4</td>\n",
       "      <td>0</td>\n",
       "      <td>0</td>\n",
       "      <td>0</td>\n",
       "    </tr>\n",
       "  </tbody>\n",
       "</table>\n",
       "</div>"
      ],
      "text/plain": [
       "       Method  No. of inspectors Average travel time [min:sec]  \\\n",
       "0  Clustering                 84                         19:52   \n",
       "1     method2                  0                             0   \n",
       "2     method3                  0                             0   \n",
       "3     method4                  0                             0   \n",
       "\n",
       "  Median travel time [min:sec]  \n",
       "0                        13:58  \n",
       "1                            0  \n",
       "2                            0  \n",
       "3                            0  "
      ]
     },
     "execution_count": 33,
     "metadata": {},
     "output_type": "execute_result"
    }
   ],
   "source": [
    "pd.read_csv('Dashboard_data\\Results_peak_df', index_col=0)"
   ]
  },
  {
   "cell_type": "code",
   "execution_count": null,
   "metadata": {},
   "outputs": [],
   "source": []
  }
 ],
 "metadata": {
  "kernelspec": {
   "display_name": "geospatial",
   "language": "python",
   "name": "geospatial"
  },
  "language_info": {
   "codemirror_mode": {
    "name": "ipython",
    "version": 3
   },
   "file_extension": ".py",
   "mimetype": "text/x-python",
   "name": "python",
   "nbconvert_exporter": "python",
   "pygments_lexer": "ipython3",
   "version": "3.9.18"
  }
 },
 "nbformat": 4,
 "nbformat_minor": 2
}
