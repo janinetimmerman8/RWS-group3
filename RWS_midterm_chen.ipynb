{
 "cells": [
  {
   "cell_type": "markdown",
   "metadata": {},
   "source": [
    "# Midterm notebook"
   ]
  },
  {
   "cell_type": "markdown",
   "metadata": {},
   "source": [
    "This is the main notebook for the midterm submission from RWS group 3"
   ]
  },
  {
   "cell_type": "markdown",
   "metadata": {},
   "source": [
    "## Table of contents\n",
    "1. Analysis of incident data\n",
    "2. The travel time of the road sections\n",
    "3. Stochastic Gradient Descent(SGD) Optimizer"
   ]
  },
  {
   "cell_type": "code",
   "execution_count": 27,
   "metadata": {},
   "outputs": [],
   "source": [
    "## Importing all neccesary modules\n",
    "%matplotlib inline\n",
    "import geopandas as gpd\n",
    "import folium \n",
    "import json\n",
    "import pandas as pd\n",
    "import numpy as np\n",
    "\n",
    "from folium.plugins import HeatMap\n",
    "from folium.plugins import MarkerCluster\n",
    "import branca.colormap as cm\n",
    "from sklearn.cluster import DBSCAN\n",
    "\n",
    "import matplotlib.pyplot as plt\n",
    "import pickle\n",
    "import networkx as nx"
   ]
  },
  {
   "cell_type": "markdown",
   "metadata": {},
   "source": [
    "## 3. Stochastic Gradient Descent(SGD) Optimizer"
   ]
  },
  {
   "cell_type": "markdown",
   "metadata": {},
   "source": [
    "Stochastic Gradient Descent is an iterative optimization algorithm used to find the minimum of a cost or loss function. In this context, the cost function represents the total traveling time of inspectors to accidents. Explanations of the model are given as follows:"
   ]
  },
  {
   "cell_type": "markdown",
   "metadata": {},
   "source": [
    "Input:\n",
    "- inspectors: An array of coordinates representing the initial positions of inspectors.\n",
    "- accidents: An array of coordinates representing the locations with high possibility of accidents.\n",
    "- max_travel_time: A constant value representing the maximum allowed traveling time for an individual inspector.\n",
    "- learning_rate: A hyperparameter controlling the step size during parameter updates in the optimization process.\n",
    "- momentum: A hyperparameter representing the momentum term used in SGD with momentum.\n",
    "- max_iterations: The number of iterations for the optimization process.\n",
    "\n",
    "Output:\n",
    "- optimized_inspectors: An array of coordinates representing the final positions of inspectors after the optimization process.\n",
    "\n",
    "Optimization Objective:\n",
    "- The optimization objective is to find the optimal positions for inspectors such that the total traveling time is minimized.\n",
    "- The objective function minimizes the total traveling time while ensuring that no inspector's traveling time exceeds max_travel_time.\n",
    "- The objective function is implicitly defined by the nearest_neighbor function, which assigns inspectors to the nearest accidents, and the subsequent update process."
   ]
  },
  {
   "cell_type": "code",
   "execution_count": null,
   "metadata": {},
   "outputs": [],
   "source": [
    "#import network X\n",
    "G = pickle.load(open('NetworkX_graph.pickle', 'rb'))"
   ]
  },
  {
   "cell_type": "markdown",
   "metadata": {},
   "source": [
    "Still there are some problems when computing the travel time, our group will continue to work on resolving these issues."
   ]
  },
  {
   "cell_type": "code",
   "execution_count": null,
   "metadata": {},
   "outputs": [],
   "source": [
    "# travel_time function\n",
    "def travel_time_func(point1, point2):\n",
    "    # This function should use the information given in network X to return the travel time between two points\n",
    "\n",
    "    return 111"
   ]
  },
  {
   "cell_type": "code",
   "execution_count": null,
   "metadata": {},
   "outputs": [],
   "source": [
    "# Define a function to find the nearest inspector-accident pair\n",
    "def nearest_neighbor(available_inspectors, accidents, travel_time_func):\n",
    "    min_travel_time = float('inf')\n",
    "    nearest_inspector = None\n",
    "    nearest_accident = None\n",
    "    \n",
    "    # Iterate over available inspectors and accidents to find the pair with the minimum travel time\n",
    "    for inspector in available_inspectors:\n",
    "        for accident in accidents:\n",
    "            travel_time = travel_time_func(inspector, accident)\n",
    "            if travel_time < min_travel_time:\n",
    "                min_travel_time = travel_time\n",
    "                nearest_inspector = inspector\n",
    "                nearest_accident = accident\n",
    "    \n",
    "    return nearest_inspector, nearest_accident\n",
    "\n",
    "# Define a function to calculate the total traveling time\n",
    "def total_traveling_time(inspectors, accidents, travel_time_func):\n",
    "    return sum(travel_time_func(inspector, accident) for inspector, accident in zip(inspectors, accidents))\n",
    "\n",
    "# Define an optimization function using Stochastic Gradient Descent (SGD) with momentum\n",
    "def sgd_with_momentum(learning_rate, momentum, max_iterations, inspectors, accidents, max_travel_time, travel_time_func):\n",
    "    num_inspectors = len(inspectors)\n",
    "    \n",
    "    velocity = np.zeros_like(inspectors)\n",
    "    \n",
    "    # Iterate for a specified number of optimization iterations\n",
    "    for _ in range(max_iterations):\n",
    "        np.random.shuffle(inspectors)\n",
    "        \n",
    "        # Iterate over inspectors\n",
    "        for i in range(num_inspectors):\n",
    "            inspector, accident = nearest_neighbor(inspectors[i:], accidents, travel_time_func)\n",
    "            current_travel_time = travel_time_func(inspector, accident)\n",
    "            \n",
    "            # Check if the current travel time exceeds the maximum allowed time\n",
    "            if current_travel_time <= max_travel_time:\n",
    "                continue\n",
    "            \n",
    "            # Calculate the gradient and update the inspector's position with momentum\n",
    "            gradient = np.array(travel_time_func(inspector, accident)) * (inspector - accident) / current_travel_time\n",
    "            velocity[i] = momentum * velocity[i] - learning_rate * gradient\n",
    "            inspectors[i] += velocity[i]\n",
    "    \n",
    "    return inspectors\n",
    "\n"
   ]
  },
  {
   "cell_type": "markdown",
   "metadata": {},
   "source": [
    "Besides, other variables are also not determined yet, such as the learning rate, interation, etc. Those types of variables can only be determined by running the model and comparing the results."
   ]
  },
  {
   "cell_type": "code",
   "execution_count": null,
   "metadata": {},
   "outputs": [],
   "source": [
    "# Other variables:\n",
    "num_inspectors = 40\n",
    "num_accidents = 25\n",
    "max_travel_time = 14 #min\n",
    "learning_rate = 0.1\n",
    "momentum = 0.9\n",
    "max_iterations = 1000\n"
   ]
  },
  {
   "cell_type": "markdown",
   "metadata": {},
   "source": [
    "For the initial placement of inspectors, randomness is allowed, but it's crucial to ensure that each assigned position has only one inspector. Additionally, it's assumed that all inspectors are positioned on the highway, and their locations are not entirely arbitrary. We have a matrix containing all potential inspector positions, which correspond to the recorded locations of road sections in the provided dataset.\n",
    "\n",
    "As for the accident positions, they represent locations (coordinates) obtained after applying a filtering process to identify areas with a higher likelihood of accidents. These part of work still require additional time and effort to be completed."
   ]
  },
  {
   "cell_type": "code",
   "execution_count": null,
   "metadata": {},
   "outputs": [],
   "source": [
    "# Define all possible inspector locations as an array\n",
    "possible_inspector_locations = [[200,200],[300,400]]\n",
    "\n",
    "# Initialize inspector positions without duplicates\n",
    "inspectors = np.random.choice(possible_inspector_locations, num_inspectors, replace=False)\n",
    "\n",
    "# Accident positions\n",
    "accidents = [[100,200],[400,600]]\n",
    "\n",
    "# Optimize inspector positions using SGD with momentum\n",
    "optimized_inspectors = sgd_with_momentum(learning_rate, momentum, max_iterations, inspectors, accidents, max_travel_time, travel_time_func)\n",
    "\n",
    "# Print the optimized inspector positions and total traveling time\n",
    "print(\"Optimized Inspector Positions:\", optimized_inspectors)\n",
    "print(\"Total Traveling Time:\", total_traveling_time(optimized_inspectors, accidents, travel_time_func))"
   ]
  }
 ],
 "metadata": {
  "kernelspec": {
   "display_name": "geospatial",
   "language": "python",
   "name": "geospatial"
  },
  "language_info": {
   "codemirror_mode": {
    "name": "ipython",
    "version": 3
   },
   "file_extension": ".py",
   "mimetype": "text/x-python",
   "name": "python",
   "nbconvert_exporter": "python",
   "pygments_lexer": "ipython3",
   "version": "3.9.18"
  }
 },
 "nbformat": 4,
 "nbformat_minor": 2
}
